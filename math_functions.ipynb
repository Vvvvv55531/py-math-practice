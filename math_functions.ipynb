{
 "cells": [
  {
   "cell_type": "code",
   "execution_count": 1,
   "id": "e8299e22-7100-453c-a5fd-51f3f72db90e",
   "metadata": {},
   "outputs": [],
   "source": [
    "# Импорт библиотеки для мат. вычислений с компл. числами:\n",
    "import cmath as m\n",
    "\n",
    "# Функция для нахождения f(x):\n",
    "def f(x):\n",
    "\n",
    "    try:\n",
    "        # Арифм. выражение согласно варианту:\n",
    "        a = pow(m.cos(4.2*m.pi) / m.sin(7.6*m.pi), 2)\n",
    "        b = m.tan(x) / m.sin(5.4*m.pi)\n",
    "        c = m.log(3.2) / (2*m.log(7.3))\n",
    "        d = m.cos(4.2*m.pi) / m.sin(7.6*m.pi)\n",
    "        e = m.sqrt(m.tan(x) / m.sin(5.4*m.pi))\n",
    "        \n",
    "        res = (a - b + c) / (d + e)\n",
    "        return res\n",
    "\n",
    "    # Проверки на соответствие результата ОДЗ:\n",
    "    except ZeroDivisionError:\n",
    "        print(\"Ошибка! Деление на ноль\")\n",
    "        return\n",
    "        \n",
    "    except Exception as e:\n",
    "        print(f\"Ошибка! {e}\")\n",
    "        return\n"
   ]
  },
  {
   "cell_type": "code",
   "execution_count": 2,
   "id": "9927a16f-c0dd-4196-adfd-e3d2aab2cc11",
   "metadata": {},
   "outputs": [
    {
     "name": "stdin",
     "output_type": "stream",
     "text": [
      "Введите х:  123456789.1234567\n"
     ]
    },
    {
     "name": "stdout",
     "output_type": "stream",
     "text": [
      "\n",
      "+ ---------------- + ------------------- +\n",
      "|        x         |         f(x)        |\n",
      "+ ---------------- + ------------------- +\n",
      "|  61728394.561728 | -0.992289+1.185861j |\n",
      "|  92592591.842593 | -0.929111+1.709022j |\n",
      "| 123456789.123457 | -0.854690+7.840150j |\n",
      "| 154320986.404321 |           -2.125541 |\n",
      "| 185185183.685185 |           -0.452320 |\n",
      "+ ---------------- + ------------------- +\n"
     ]
    }
   ],
   "source": [
    "while True: \n",
    "    try: \n",
    "        # Ввод значения x:\n",
    "        x = float(input(\"Введите х: \")) \n",
    "        break\n",
    "\n",
    "        # Проверка на тип данных введенного x:\n",
    "    except ValueError: \n",
    "        print(\"Ошибка! Введено не число\") \n",
    "        continue\n",
    "\n",
    "# Множители и списки значений:\n",
    "mults = [0.5, 0.75, 1.0, 1.25, 1.5]\n",
    "xi_list = []\n",
    "fxi_list = []\n",
    "\n",
    "\n",
    "for i in mults:\n",
    "    # Нахождение значений x и f(x):\n",
    "    xi = x * i\n",
    "    fxi = f(xi)\n",
    "\n",
    "    # Приведение значений к соответствующему формату:\n",
    "    if fxi is not None:\n",
    "        # Float с 6 знаками после запятой\n",
    "        xi_list.append(\"%.6f\" % xi)\n",
    "\n",
    "        # Float с 6 знаками после запятой без мнимой части:\n",
    "        if fxi.imag == 0:\n",
    "            fx = \"%.6f\" % fxi.real\n",
    "\n",
    "        # Float с 6 знаками после запятой с аналог. мнимой частью:\n",
    "        else:\n",
    "            fx = \"%.6f%+.6fj\" % (fxi.real, fxi.imag)\n",
    "            \n",
    "        fxi_list.append(fx)\n",
    "\n",
    "# Нахождение числа с максимальной длиной для вывода:\n",
    "x_width = max(len(el) for el in xi_list)\n",
    "fx_width = max(len(el) for el in fxi_list)\n",
    "\n",
    "# Реализация разделителя строк в таблице:\n",
    "separ = f\"+ {\"-\"*x_width} + {\"-\"*fx_width} +\"\n",
    "\n",
    "# Реализация заголовка таблицы:\n",
    "print(\"\\n\" + separ)\n",
    "print(f\"| {\"x\".center(x_width)} | {\"f(x)\".center(fx_width)} |\")\n",
    "print(separ)\n",
    "\n",
    "# Реализация тела таблицы:\n",
    "for x, fx in zip(xi_list, fxi_list):\n",
    "    print(f\"| {x.rjust(x_width)} | {fx.rjust(fx_width)} |\")\n",
    "\n",
    "print(separ)\n"
   ]
  },
  {
   "cell_type": "code",
   "execution_count": null,
   "id": "e3ac8bf3-b733-44c2-a2d7-592ada4ba851",
   "metadata": {},
   "outputs": [],
   "source": []
  }
 ],
 "metadata": {
  "kernelspec": {
   "display_name": "Python 3 (ipykernel)",
   "language": "python",
   "name": "python3"
  },
  "language_info": {
   "codemirror_mode": {
    "name": "ipython",
    "version": 3
   },
   "file_extension": ".py",
   "mimetype": "text/x-python",
   "name": "python",
   "nbconvert_exporter": "python",
   "pygments_lexer": "ipython3",
   "version": "3.12.4"
  }
 },
 "nbformat": 4,
 "nbformat_minor": 5
}
