{
 "cells": [
  {
   "cell_type": "code",
   "execution_count": 1,
   "id": "e8299e22-7100-453c-a5fd-51f3f72db90e",
   "metadata": {},
   "outputs": [],
   "source": [
    "# Импорт библиотеки numpy для генерации списка x:\n",
    "import numpy as np\n",
    "\n",
    "# Реализация основной функции f(x):\n",
    "def f(x):\n",
    "    # Инициализация начальных значений:\n",
    "    n = 1 # шаг\n",
    "    x_n = 1 # x^(n-1)\n",
    "    term = 1 # значение при шаге\n",
    "    result = term # результат\n",
    "\n",
    "    # Нахождение суммы значений до 1e-10:\n",
    "    while (abs(term) > 1e-10):\n",
    "        n += 1\n",
    "        x_n = x_n * x\n",
    "        term = n * x_n\n",
    "        result += term\n",
    "    return result, n\n",
    "\n",
    "# Значение x и списки значений f(x), n:\n",
    "x_v = np.arange(0.1, 1.0, 0.1)\n",
    "fx_v = []\n",
    "n_v = []\n",
    "\n",
    "for x in x_v:\n",
    "    # Нахождение значений f(x) и n:\n",
    "    fx, n = f(x)\n",
    "\n",
    "    # Приведение значений к соответствующему формату:\n",
    "    fx = \"%.6f\" % fx\n",
    "    n = \"%.d\" % n\n",
    "    \n",
    "    fx_v.append(fx)\n",
    "    n_v.append(n)\n",
    "\n",
    "x_v = [\"%.1f\" % x for x in x_v]\n"
   ]
  },
  {
   "cell_type": "code",
   "execution_count": 2,
   "id": "56f51373-e7ad-423a-bc4b-fa6e353ce3c4",
   "metadata": {},
   "outputs": [
    {
     "name": "stdout",
     "output_type": "stream",
     "text": [
      "\n",
      "+ --- + ---------- + --- +\n",
      "|  x  |    f(x)    |  n  |\n",
      "+ --- + ---------- + --- +\n",
      "| 0.1 |   1.234568 |  13 |\n",
      "| 0.2 |   1.562500 |  18 |\n",
      "| 0.3 |   2.040816 |  23 |\n",
      "| 0.4 |   2.777778 |  30 |\n",
      "| 0.5 |   4.000000 |  40 |\n",
      "| 0.6 |   6.250000 |  54 |\n",
      "| 0.7 |  11.111111 |  78 |\n",
      "| 0.8 |  25.000000 | 126 |\n",
      "| 0.9 | 100.000000 | 273 |\n",
      "+ --- + ---------- + --- +\n"
     ]
    }
   ],
   "source": [
    "# Нахождение числа с максимальной длиной для вывода:\n",
    "x_w = max(len(x) for x in x_v)\n",
    "fx_w = max(len(fx) for fx in fx_v)\n",
    "n_w = max(len(n) for n in n_v)\n",
    "\n",
    "# Реализация разделителя строк в таблице:\n",
    "separ = f\"+ {\"-\"*x_w} + {\"-\"*fx_w} + {\"-\"*n_w} +\"\n",
    "\n",
    "# Реализация заголовка таблицы:\n",
    "print(\"\\n\" + separ)\n",
    "print(f\"| {\"x\".center(x_w)} | {\"f(x)\".center(fx_w)} | {\"n\".center(n_w)} |\")\n",
    "print(separ)\n",
    "\n",
    "# Реализация тела таблицы:\n",
    "for x, fx, n in zip(x_v, fx_v, n_v):\n",
    "    print(f\"| {x.rjust(x_w)} | {fx.rjust(fx_w)} | {n.rjust(n_w)} |\")\n",
    "print(separ)\n"
   ]
  },
  {
   "cell_type": "code",
   "execution_count": null,
   "id": "d3d533d3-7253-4030-9eb9-9ce28369aee7",
   "metadata": {},
   "outputs": [],
   "source": []
  }
 ],
 "metadata": {
  "kernelspec": {
   "display_name": "Python 3 (ipykernel)",
   "language": "python",
   "name": "python3"
  },
  "language_info": {
   "codemirror_mode": {
    "name": "ipython",
    "version": 3
   },
   "file_extension": ".py",
   "mimetype": "text/x-python",
   "name": "python",
   "nbconvert_exporter": "python",
   "pygments_lexer": "ipython3",
   "version": "3.12.4"
  }
 },
 "nbformat": 4,
 "nbformat_minor": 5
}
